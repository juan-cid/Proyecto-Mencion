{
 "cells": [
  {
   "cell_type": "code",
   "execution_count": 13,
   "id": "95bf26ab",
   "metadata": {},
   "outputs": [],
   "source": [
    "import networkx as nx\n",
    "import random\n",
    "import matplotlib.pyplot as plt\n"
   ]
  },
  {
   "cell_type": "code",
   "execution_count": 11,
   "id": "f83b7770",
   "metadata": {},
   "outputs": [],
   "source": [
    "def printGraph(G, pos):\n",
    "    labels = nx.get_edge_attributes(G, 'weight')\n",
    "\n",
    "\n",
    "    nx.draw_networkx_nodes(G, pos, node_size=300)\n",
    "\n",
    "    nx.draw_networkx_edges(G, pos, width=2)\n",
    "\n",
    "    nx.draw_networkx_labels(G, pos, font_size=12, font_family='sans-serif')\n",
    "    labels = nx.get_edge_attributes(G, 'weight')\n",
    "    nx.draw_networkx_edge_labels(G, pos, edge_labels=labels)\n",
    "    plt.axis('off')\n",
    "    plt.show()\n"
   ]
  },
  {
   "cell_type": "code",
   "execution_count": 8,
   "id": "10cba855",
   "metadata": {},
   "outputs": [
    {
     "name": "stdout",
     "output_type": "stream",
     "text": [
      "[(1, 2, 23.2), (1, 4, 22.3), (1, 9, 27.3), (2, 1, 23.2), (2, 4, 23.3), (2, 7, 11.6), (2, 9, 31.9), (2, 16, 13.6), (3, 4, 20.7), (3, 6, 32.2), (3, 9, 5.9), (3, 10, 5.5), (3, 11, 17.3), (4, 1, 22.3), (4, 2, 23.3), (4, 3, 20.7), (4, 7, 11.8), (4, 8, 8.2), (4, 11, 12.7), (5, 7, 8.1), (5, 8, 7.8), (5, 11, 16.3), (5, 17, 22.6), (5, 18, 30.8), (6, 3, 32.2), (6, 9, 27.4), (6, 10, 35.3), (6, 12, 40.7), (7, 2, 11.6), (7, 4, 11.8), (7, 5, 8.1), (7, 8, 4.6), (7, 16, 25.1), (8, 4, 8.2), (8, 5, 7.8), (8, 7, 4.6), (8, 11, 11.7), (9, 1, 27.3), (9, 2, 31.9), (9, 3, 5.9), (9, 6, 27.4), (10, 3, 5.1), (10, 6, 35.3), (10, 11, 18.1), (10, 12, 15.6), (11, 3, 17.3), (11, 4, 12.7), (11, 8, 11.5), (11, 10, 18.2), (11, 13, 27.0), (11, 15, 18.5), (12, 6, 40.7), (12, 10, 15.6), (12, 13, 15.4), (12, 14, 22.4), (13, 11, 27.0), (13, 12, 15.4), (13, 14, 13.4), (13, 15, 25.4), (13, 20, 25.4), (14, 12, 22.4), (14, 13, 13.4), (15, 11, 18.5), (15, 13, 25.4), (15, 17, 18.2), (15, 19, 10.7), (15, 20, 7.1), (16, 2, 13.6), (16, 7, 23.0), (16, 18, 12.1), (17, 5, 22.6), (17, 18, 32.0), (17, 15, 18.2), (18, 5, 30.8), (18, 16, 13.4), (18, 17, 31.2), (19, 15, 10.8), (19, 20, 14.4), (20, 13, 35.9), (20, 15, 7.9), (20, 19, 14.4)]\n"
     ]
    }
   ],
   "source": [
    "\n",
    "m = 10\n",
    "n = 5\n",
    "G = nx.Graph()\n",
    "\n",
    "dic = [(1, 2, 23.2), (1, 4, 22.3), (1, 9, 27.3),\n",
    "       (2, 1, 23.2), (2, 4, 23.3), (2, 7, 11.6), (2, 9, 31.9), (2, 16, 13.6),\n",
    "       (3, 4, 20.7), (3, 6, 32.2), (3, 9, 5.9), (3, 10, 5.5), (3, 11, 17.3),\n",
    "       (4, 1, 22.3), (4, 2, 23.3), (4, 3, 20.7), (4, 7, 11.8), (4, 8, 8.2), (4, 11, 12.7),\n",
    "       (5, 7, 8.1), (5, 8, 7.8), (5, 11, 16.3), (5, 17, 22.6), (5, 18, 30.8),\n",
    "       (6, 3, 32.2), (6, 9, 27.4), (6, 10, 35.3), (6, 12, 40.7),\n",
    "       (7, 2, 11.6), (7, 4, 11.8), (7, 5, 8.1), (7, 8, 4.6), (7, 16, 25.1),\n",
    "       (8, 4, 8.2), (8, 5, 7.8), (8, 7, 4.6), (8, 11, 11.7),\n",
    "       (9, 1, 27.3), (9, 2, 31.9), (9, 3, 5.9), (9, 6, 27.4),\n",
    "       (10, 3, 5.1), (10, 6, 35.3), (10, 11, 18.1), (10, 12, 15.6),\n",
    "       (11, 3, 17.3), (11, 4, 12.7), (11, 8, 11.5), (11, 10, 18.2), (11, 13, 27.0), (11, 15, 18.5),\n",
    "       (12, 6, 40.7), (12, 10, 15.6), (12, 13, 15.4), (12, 14, 22.4),\n",
    "       (13, 11, 27.0), (13, 12, 15.4), (13, 14, 13.4), (13, 15, 25.4), (13, 20, 25.4),\n",
    "       (14, 12, 22.4), (14, 13, 13.4),\n",
    "       (15, 11, 18.5), (15, 13, 25.4), (15, 17, 18.2), (15, 19, 10.7), (15, 20, 7.1),\n",
    "       (16, 2, 13.6), (16, 7, 23.0), (16, 18, 12.1),\n",
    "       (17, 5, 22.6), (17, 18, 32.0), (17, 15, 18.2),\n",
    "       (18, 5, 30.8), (18, 16, 13.4), (18, 17, 31.2),\n",
    "       (19, 15, 10.8), (19, 20, 14.4),\n",
    "       (20, 13, 35.9), (20, 15, 7.9), (20, 19, 14.4)\n",
    "       ]\n",
    "\n",
    "print(dic)"
   ]
  },
  {
   "cell_type": "code",
   "execution_count": 12,
   "id": "18ed2bd6",
   "metadata": {},
   "outputs": [
    {
     "ename": "NetworkXError",
     "evalue": "random_state_index is incorrect",
     "output_type": "error",
     "traceback": [
      "\u001b[1;31m---------------------------------------------------------------------------\u001b[0m",
      "\u001b[1;31mIndexError\u001b[0m                                Traceback (most recent call last)",
      "\u001b[1;32mD:\\anaconda3\\lib\\site-packages\\networkx\\utils\\decorators.py\u001b[0m in \u001b[0;36m_random_state\u001b[1;34m(func, *args, **kwargs)\u001b[0m\n\u001b[0;32m    395\u001b[0m         \u001b[1;32mtry\u001b[0m\u001b[1;33m:\u001b[0m\u001b[1;33m\u001b[0m\u001b[1;33m\u001b[0m\u001b[0m\n\u001b[1;32m--> 396\u001b[1;33m             \u001b[0mrandom_state_arg\u001b[0m \u001b[1;33m=\u001b[0m \u001b[0margs\u001b[0m\u001b[1;33m[\u001b[0m\u001b[0mrandom_state_index\u001b[0m\u001b[1;33m]\u001b[0m\u001b[1;33m\u001b[0m\u001b[1;33m\u001b[0m\u001b[0m\n\u001b[0m\u001b[0;32m    397\u001b[0m         \u001b[1;32mexcept\u001b[0m \u001b[0mTypeError\u001b[0m \u001b[1;32mas\u001b[0m \u001b[0me\u001b[0m\u001b[1;33m:\u001b[0m\u001b[1;33m\u001b[0m\u001b[1;33m\u001b[0m\u001b[0m\n",
      "\u001b[1;31mIndexError\u001b[0m: tuple index out of range",
      "\nThe above exception was the direct cause of the following exception:\n",
      "\u001b[1;31mNetworkXError\u001b[0m                             Traceback (most recent call last)",
      "\u001b[1;32m<ipython-input-12-10060576e85d>\u001b[0m in \u001b[0;36m<module>\u001b[1;34m\u001b[0m\n\u001b[0;32m      3\u001b[0m \u001b[1;33m\u001b[0m\u001b[0m\n\u001b[0;32m      4\u001b[0m \u001b[1;33m\u001b[0m\u001b[0m\n\u001b[1;32m----> 5\u001b[1;33m \u001b[0mpos\u001b[0m \u001b[1;33m=\u001b[0m \u001b[0mnx\u001b[0m\u001b[1;33m.\u001b[0m\u001b[0mspring_layout\u001b[0m\u001b[1;33m(\u001b[0m\u001b[0mG\u001b[0m\u001b[1;33m)\u001b[0m\u001b[1;33m\u001b[0m\u001b[1;33m\u001b[0m\u001b[0m\n\u001b[0m\u001b[0;32m      6\u001b[0m \u001b[1;33m\u001b[0m\u001b[0m\n\u001b[0;32m      7\u001b[0m \u001b[0mprintGraph\u001b[0m\u001b[1;33m(\u001b[0m\u001b[0mG\u001b[0m\u001b[1;33m,\u001b[0m \u001b[0mpos\u001b[0m\u001b[1;33m)\u001b[0m\u001b[1;33m\u001b[0m\u001b[1;33m\u001b[0m\u001b[0m\n",
      "\u001b[1;32mD:\\anaconda3\\lib\\site-packages\\decorator.py\u001b[0m in \u001b[0;36mfun\u001b[1;34m(*args, **kw)\u001b[0m\n\u001b[0;32m    229\u001b[0m             \u001b[1;32mif\u001b[0m \u001b[1;32mnot\u001b[0m \u001b[0mkwsyntax\u001b[0m\u001b[1;33m:\u001b[0m\u001b[1;33m\u001b[0m\u001b[1;33m\u001b[0m\u001b[0m\n\u001b[0;32m    230\u001b[0m                 \u001b[0margs\u001b[0m\u001b[1;33m,\u001b[0m \u001b[0mkw\u001b[0m \u001b[1;33m=\u001b[0m \u001b[0mfix\u001b[0m\u001b[1;33m(\u001b[0m\u001b[0margs\u001b[0m\u001b[1;33m,\u001b[0m \u001b[0mkw\u001b[0m\u001b[1;33m,\u001b[0m \u001b[0msig\u001b[0m\u001b[1;33m)\u001b[0m\u001b[1;33m\u001b[0m\u001b[1;33m\u001b[0m\u001b[0m\n\u001b[1;32m--> 231\u001b[1;33m             \u001b[1;32mreturn\u001b[0m \u001b[0mcaller\u001b[0m\u001b[1;33m(\u001b[0m\u001b[0mfunc\u001b[0m\u001b[1;33m,\u001b[0m \u001b[1;33m*\u001b[0m\u001b[1;33m(\u001b[0m\u001b[0mextras\u001b[0m \u001b[1;33m+\u001b[0m \u001b[0margs\u001b[0m\u001b[1;33m)\u001b[0m\u001b[1;33m,\u001b[0m \u001b[1;33m**\u001b[0m\u001b[0mkw\u001b[0m\u001b[1;33m)\u001b[0m\u001b[1;33m\u001b[0m\u001b[1;33m\u001b[0m\u001b[0m\n\u001b[0m\u001b[0;32m    232\u001b[0m     \u001b[0mfun\u001b[0m\u001b[1;33m.\u001b[0m\u001b[0m__name__\u001b[0m \u001b[1;33m=\u001b[0m \u001b[0mfunc\u001b[0m\u001b[1;33m.\u001b[0m\u001b[0m__name__\u001b[0m\u001b[1;33m\u001b[0m\u001b[1;33m\u001b[0m\u001b[0m\n\u001b[0;32m    233\u001b[0m     \u001b[0mfun\u001b[0m\u001b[1;33m.\u001b[0m\u001b[0m__doc__\u001b[0m \u001b[1;33m=\u001b[0m \u001b[0mfunc\u001b[0m\u001b[1;33m.\u001b[0m\u001b[0m__doc__\u001b[0m\u001b[1;33m\u001b[0m\u001b[1;33m\u001b[0m\u001b[0m\n",
      "\u001b[1;32mD:\\anaconda3\\lib\\site-packages\\networkx\\utils\\decorators.py\u001b[0m in \u001b[0;36m_random_state\u001b[1;34m(func, *args, **kwargs)\u001b[0m\n\u001b[0;32m    398\u001b[0m             \u001b[1;32mraise\u001b[0m \u001b[0mnx\u001b[0m\u001b[1;33m.\u001b[0m\u001b[0mNetworkXError\u001b[0m\u001b[1;33m(\u001b[0m\u001b[1;34m\"random_state_index must be an integer\"\u001b[0m\u001b[1;33m)\u001b[0m \u001b[1;32mfrom\u001b[0m \u001b[0me\u001b[0m\u001b[1;33m\u001b[0m\u001b[1;33m\u001b[0m\u001b[0m\n\u001b[0;32m    399\u001b[0m         \u001b[1;32mexcept\u001b[0m \u001b[0mIndexError\u001b[0m \u001b[1;32mas\u001b[0m \u001b[0me\u001b[0m\u001b[1;33m:\u001b[0m\u001b[1;33m\u001b[0m\u001b[1;33m\u001b[0m\u001b[0m\n\u001b[1;32m--> 400\u001b[1;33m             \u001b[1;32mraise\u001b[0m \u001b[0mnx\u001b[0m\u001b[1;33m.\u001b[0m\u001b[0mNetworkXError\u001b[0m\u001b[1;33m(\u001b[0m\u001b[1;34m\"random_state_index is incorrect\"\u001b[0m\u001b[1;33m)\u001b[0m \u001b[1;32mfrom\u001b[0m \u001b[0me\u001b[0m\u001b[1;33m\u001b[0m\u001b[1;33m\u001b[0m\u001b[0m\n\u001b[0m\u001b[0;32m    401\u001b[0m \u001b[1;33m\u001b[0m\u001b[0m\n\u001b[0;32m    402\u001b[0m         \u001b[1;31m# Create a numpy.random.RandomState instance\u001b[0m\u001b[1;33m\u001b[0m\u001b[1;33m\u001b[0m\u001b[1;33m\u001b[0m\u001b[0m\n",
      "\u001b[1;31mNetworkXError\u001b[0m: random_state_index is incorrect"
     ]
    }
   ],
   "source": [
    "for u, v, w in dic:\n",
    "    G.add_edge(str(u), str(v), weight=w)\n",
    "\n",
    "\n",
    "pos = nx.spring_layout(G)\n",
    "\n",
    "printGraph(G, pos)\n",
    "\n",
    "T = nx.minimum_spanning_tree(G)\n",
    "printGraph(T, pos)\n",
    "print(sorted(T.edges(data=True)))\n"
   ]
  },
  {
   "cell_type": "code",
   "execution_count": null,
   "id": "60024fc0",
   "metadata": {},
   "outputs": [],
   "source": []
  }
 ],
 "metadata": {
  "kernelspec": {
   "display_name": "Python 3",
   "language": "python",
   "name": "python3"
  },
  "language_info": {
   "codemirror_mode": {
    "name": "ipython",
    "version": 3
   },
   "file_extension": ".py",
   "mimetype": "text/x-python",
   "name": "python",
   "nbconvert_exporter": "python",
   "pygments_lexer": "ipython3",
   "version": "3.8.8"
  }
 },
 "nbformat": 4,
 "nbformat_minor": 5
}
